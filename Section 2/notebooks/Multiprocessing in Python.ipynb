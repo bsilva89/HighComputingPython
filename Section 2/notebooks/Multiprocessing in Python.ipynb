{
 "cells": [
  {
   "cell_type": "markdown",
   "metadata": {},
   "source": [
    "# At the start of this video  \n",
    "1. We were able to use threading in our Python code.  \n",
    "2. We were able to implement various locks using Python."
   ]
  },
  {
   "cell_type": "code",
   "execution_count": 1,
   "metadata": {},
   "outputs": [],
   "source": [
    "from multiprocessing import Process"
   ]
  },
  {
   "cell_type": "code",
   "execution_count": 2,
   "metadata": {},
   "outputs": [],
   "source": [
    "def func_simple(length):\n",
    "    sum_simple = 0\n",
    "    for x in range(0, length):\n",
    "        sum_simple += x\n",
    "    print(\"Simple sum is {}\".format(sum_simple))"
   ]
  },
  {
   "cell_type": "code",
   "execution_count": 4,
   "metadata": {},
   "outputs": [],
   "source": [
    "def func_square(length):\n",
    "    sum_square = 0\n",
    "    for x in range(0, length):\n",
    "        sum_square += x * x\n",
    "    print(\"Square sum is {}\".format(sum_square))"
   ]
  },
  {
   "cell_type": "code",
   "execution_count": 8,
   "metadata": {},
   "outputs": [],
   "source": [
    "def func_cube(length):\n",
    "    sum_cube = 0\n",
    "    for x in range(0, length):\n",
    "        sum_cube += x * x * x\n",
    "    print(\"Cube sum is {}\".format(sum_cube))"
   ]
  },
  {
   "cell_type": "code",
   "execution_count": 9,
   "metadata": {},
   "outputs": [],
   "source": [
    "def do_something():\n",
    "    length = 5\n",
    "    \n",
    "    # Create the processes\n",
    "    process_simple = Process(target=func_simple, args=(length,))\n",
    "    process_square = Process(target=func_square, args=(length,))\n",
    "    process_cube = Process(target=func_cube, args=(length,))\n",
    "    \n",
    "    # Start the process\n",
    "    process_simple.start()\n",
    "    process_square.start()\n",
    "    process_cube.start()\n",
    "    \n",
    "    # Wait for the processes to end\n",
    "    process_simple.join()\n",
    "    process_square.join()\n",
    "    process_cube.join()"
   ]
  },
  {
   "cell_type": "code",
   "execution_count": 10,
   "metadata": {},
   "outputs": [
    {
     "name": "stdout",
     "output_type": "stream",
     "text": [
      "Simple sum is 10\n",
      "Square sum is 30\n",
      "Cube sum is 100\n"
     ]
    }
   ],
   "source": [
    "do_something()"
   ]
  },
  {
   "cell_type": "markdown",
   "metadata": {},
   "source": [
    "# By the end of this video  \n",
    "1. We will be able to use Multiprocessing in Python.  \n",
    "2. We will implement a basic program that demonstrates the use of multiprocessing in Python."
   ]
  },
  {
   "cell_type": "code",
   "execution_count": null,
   "metadata": {},
   "outputs": [],
   "source": []
  }
 ],
 "metadata": {
  "kernelspec": {
   "display_name": "Python 3",
   "language": "python",
   "name": "python3"
  },
  "language_info": {
   "codemirror_mode": {
    "name": "ipython",
    "version": 3
   },
   "file_extension": ".py",
   "mimetype": "text/x-python",
   "name": "python",
   "nbconvert_exporter": "python",
   "pygments_lexer": "ipython3",
   "version": "3.5.2"
  }
 },
 "nbformat": 4,
 "nbformat_minor": 2
}
