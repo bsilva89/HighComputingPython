{
 "cells": [
  {
   "cell_type": "markdown",
   "metadata": {},
   "source": [
    "# At the start of this video\n",
    "1. We were able to used in-built data types in Python.\n",
    "2. We were able to implement lambda expressions, decorators, iterators and generators."
   ]
  },
  {
   "cell_type": "code",
   "execution_count": 1,
   "metadata": {},
   "outputs": [],
   "source": [
    "from threading import Thread"
   ]
  },
  {
   "cell_type": "code",
   "execution_count": 8,
   "metadata": {},
   "outputs": [],
   "source": [
    "def func_simple(length):\n",
    "    sum_f1 = 0\n",
    "    for x in range(0, length):\n",
    "        sum_f1 += x\n",
    "    print(\"Normal sum is {}\".format(sum_f1))\n",
    "    "
   ]
  },
  {
   "cell_type": "code",
   "execution_count": 9,
   "metadata": {},
   "outputs": [],
   "source": [
    "# computes sum of squares\n",
    "def func_square(length):\n",
    "    sum_f2 = 0\n",
    "    for x in range(0, length):\n",
    "        sum_f2 += x * x\n",
    "    print(\"Square sum is {}\".format(sum_f2))\n"
   ]
  },
  {
   "cell_type": "code",
   "execution_count": 10,
   "metadata": {},
   "outputs": [],
   "source": [
    "# computes sum of cubes\n",
    "def func_cubes(length):\n",
    "    sum_f3 = 0\n",
    "    for x in range(0, length):\n",
    "        sum_f3 += x * x * x\n",
    "    print(\"Cube sum is {}\".format(sum_f3))\n"
   ]
  },
  {
   "cell_type": "code",
   "execution_count": 15,
   "metadata": {},
   "outputs": [],
   "source": [
    "def do_threading():\n",
    "    length = 3\n",
    "    thread_simple = Thread(target=func_simple, args=(length,))\n",
    "    thread_square = Thread(target=func_square, args=(length,))\n",
    "    thread_cube = Thread(target=func_cubes, args=(length,))\n",
    "    \n",
    "    #start execution\n",
    "    thread_simple.start()\n",
    "    thread_square.start()\n",
    "    thread_cube.start()\n",
    "    \n",
    "    #  Wait for the threads to finish\n",
    "    thread_simple.join()\n",
    "    thread_square.join()\n",
    "    thread_cube.join()"
   ]
  },
  {
   "cell_type": "code",
   "execution_count": 16,
   "metadata": {},
   "outputs": [
    {
     "name": "stdout",
     "output_type": "stream",
     "text": [
      "Normal sum is 3\n",
      "Square sum is 5\n",
      "Cube sum is 9\n"
     ]
    }
   ],
   "source": [
    "do_threading()"
   ]
  },
  {
   "cell_type": "markdown",
   "metadata": {},
   "source": [
    "# By the end of this video  \n",
    "1. We will be able to use threading in out Python code.  \n",
    "2. We will implement a basic program to demonstrate threading in Python."
   ]
  },
  {
   "cell_type": "code",
   "execution_count": null,
   "metadata": {},
   "outputs": [],
   "source": []
  }
 ],
 "metadata": {
  "kernelspec": {
   "display_name": "Python 3",
   "language": "python",
   "name": "python3"
  },
  "language_info": {
   "codemirror_mode": {
    "name": "ipython",
    "version": 3
   },
   "file_extension": ".py",
   "mimetype": "text/x-python",
   "name": "python",
   "nbconvert_exporter": "python",
   "pygments_lexer": "ipython3",
   "version": "3.5.2"
  }
 },
 "nbformat": 4,
 "nbformat_minor": 2
}
