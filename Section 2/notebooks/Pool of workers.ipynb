{
 "cells": [
  {
   "cell_type": "markdown",
   "metadata": {},
   "source": [
    "# At the start of this video  \n",
    "1. We were able to use mulithreading in Python.  \n",
    "2. We were able to use multiprocessing in Python."
   ]
  },
  {
   "cell_type": "code",
   "execution_count": 1,
   "metadata": {},
   "outputs": [],
   "source": [
    "import time"
   ]
  },
  {
   "cell_type": "code",
   "execution_count": 2,
   "metadata": {},
   "outputs": [],
   "source": [
    "def some_function(x):\n",
    "    return x*x + x + 3"
   ]
  },
  {
   "cell_type": "code",
   "execution_count": 3,
   "metadata": {},
   "outputs": [
    {
     "data": {
      "text/plain": [
       "15"
      ]
     },
     "execution_count": 3,
     "metadata": {},
     "output_type": "execute_result"
    }
   ],
   "source": [
    "some_function(3)"
   ]
  },
  {
   "cell_type": "code",
   "execution_count": 12,
   "metadata": {},
   "outputs": [
    {
     "name": "stdout",
     "output_type": "stream",
     "text": [
      "Time taken is 8.926074981689453 seconds\n"
     ]
    }
   ],
   "source": [
    "start = time.time()\n",
    "for i in range(0, 50000000):\n",
    "    some_function(i)\n",
    "end = time.time()\n",
    "print(\"Time taken is {} seconds\".format(end - start))"
   ]
  },
  {
   "cell_type": "markdown",
   "metadata": {},
   "source": [
    "# Using a pool of workers"
   ]
  },
  {
   "cell_type": "code",
   "execution_count": 13,
   "metadata": {},
   "outputs": [],
   "source": [
    "from multiprocessing import Pool"
   ]
  },
  {
   "cell_type": "code",
   "execution_count": 14,
   "metadata": {},
   "outputs": [
    {
     "name": "stdout",
     "output_type": "stream",
     "text": [
      "Time taken is 8.305878162384033 seconds\n"
     ]
    }
   ],
   "source": [
    "start = time.time()\n",
    "pool = Pool(processes=4)\n",
    "input_list = range(0, 50000000)\n",
    "result = pool.map(some_function, input_list) #This issues a blocking call\n",
    "end = time.time()\n",
    "print(\"Time taken is {} seconds\".format(end - start))"
   ]
  },
  {
   "cell_type": "markdown",
   "metadata": {},
   "source": [
    "# Using map_async for non-blocking calls"
   ]
  },
  {
   "cell_type": "code",
   "execution_count": 16,
   "metadata": {},
   "outputs": [
    {
     "name": "stdout",
     "output_type": "stream",
     "text": [
      "Time taken is 1.267455816268921 seconds\n"
     ]
    }
   ],
   "source": [
    "start = time.time()\n",
    "pool = Pool(processes=4)\n",
    "input_list = range(0, 50000000)\n",
    "result = pool.map_async(some_function, input_list) #This issues a non blocking call\n",
    "end = time.time()\n",
    "print(\"Time taken is {} seconds\".format(end - start))"
   ]
  },
  {
   "cell_type": "markdown",
   "metadata": {},
   "source": [
    "# By the end of this video  \n",
    "1. We will be able to use a pool of workers in a multiprocessing program.\n",
    "2. We will also understand how map_async works."
   ]
  },
  {
   "cell_type": "code",
   "execution_count": null,
   "metadata": {},
   "outputs": [],
   "source": []
  }
 ],
 "metadata": {
  "kernelspec": {
   "display_name": "Python 3",
   "language": "python",
   "name": "python3"
  },
  "language_info": {
   "codemirror_mode": {
    "name": "ipython",
    "version": 3
   },
   "file_extension": ".py",
   "mimetype": "text/x-python",
   "name": "python",
   "nbconvert_exporter": "python",
   "pygments_lexer": "ipython3",
   "version": "3.5.2"
  }
 },
 "nbformat": 4,
 "nbformat_minor": 2
}
