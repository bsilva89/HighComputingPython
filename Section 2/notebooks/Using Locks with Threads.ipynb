{
 "cells": [
  {
   "cell_type": "markdown",
   "metadata": {},
   "source": [
    "# At the start of this video  \n",
    "1. We were able to use threading in our Python code. "
   ]
  },
  {
   "cell_type": "code",
   "execution_count": 11,
   "metadata": {},
   "outputs": [],
   "source": [
    "from threading import Thread, Lock"
   ]
  },
  {
   "cell_type": "code",
   "execution_count": 12,
   "metadata": {},
   "outputs": [],
   "source": [
    "thread_lock = Lock()"
   ]
  },
  {
   "cell_type": "code",
   "execution_count": 24,
   "metadata": {},
   "outputs": [],
   "source": [
    "# Not a good practise to use global variables\n",
    "my_global_string = \"Hello World\"\n",
    "\n",
    "def add_prefix(prefix_to_add):\n",
    "    # Adds suffix to global string\n",
    "    \n",
    "    global my_global_string\n",
    "    \n",
    "    # Acquire the lock over the data shared between threads\n",
    "    thread_lock.acquire()\n",
    "    \n",
    "    # Perform operation on shared data\n",
    "    my_global_string = prefix_to_add + \" \" + my_global_string\n",
    "    \n",
    "    # Release the lock\n",
    "    thread_lock.release()"
   ]
  },
  {
   "cell_type": "code",
   "execution_count": 25,
   "metadata": {},
   "outputs": [],
   "source": [
    "def add_suffix(suffix_to_add):\n",
    "    # Adds suffix to global string\n",
    "    \n",
    "    global my_global_string\n",
    "    \n",
    "    # Acquire the lock over the data shared between threads\n",
    "    thread_lock.acquire()\n",
    "    \n",
    "    # Perform operation on shared data\n",
    "    my_global_string = my_global_string + \" \" + suffix_to_add \n",
    "    \n",
    "    # Release the lock\n",
    "    thread_lock.release()"
   ]
  },
  {
   "cell_type": "code",
   "execution_count": 20,
   "metadata": {},
   "outputs": [],
   "source": [
    "def do_threading():\n",
    "    \n",
    "    thread_prefix = Thread(target=add_prefix, args=(\"YOLO\",))\n",
    "    thread_suffix = Thread(target=add_suffix, args=(\"BYE!!\",))\n",
    "    \n",
    "    thread_prefix.start()\n",
    "    thread_suffix.start()\n",
    "    \n",
    "    thread_prefix.join()\n",
    "    thread_suffix.join()\n",
    "    \n",
    "    global my_global_string\n",
    "    print(\"Final string is {}\".format(my_global_string))"
   ]
  },
  {
   "cell_type": "code",
   "execution_count": 21,
   "metadata": {},
   "outputs": [
    {
     "name": "stdout",
     "output_type": "stream",
     "text": [
      "Final string is YOLO Hello World BYE!!\n"
     ]
    }
   ],
   "source": [
    "do_threading()"
   ]
  },
  {
   "cell_type": "markdown",
   "metadata": {},
   "source": [
    "# Re-entrant Lock"
   ]
  },
  {
   "cell_type": "code",
   "execution_count": 27,
   "metadata": {},
   "outputs": [],
   "source": [
    "from threading import RLock\n",
    "my_re_entrant_lock = RLock()"
   ]
  },
  {
   "cell_type": "code",
   "execution_count": 28,
   "metadata": {},
   "outputs": [],
   "source": [
    "my_re_entrant_lock.acquire()\n",
    "my_global_string = \"yolo swag\"\n",
    "\n",
    "# If this was a conventional Lock, then this would a blocking call for the thread\n",
    "# Even though the same thread is trying to acess it again.\n",
    "my_re_entrant_lock.acquire()   \n",
    "my_global_string += \" ok bye !\"\n",
    "\n",
    "\n",
    "my_re_entrant_lock.release()\n",
    "my_re_entrant_lock.release()\n"
   ]
  },
  {
   "cell_type": "markdown",
   "metadata": {},
   "source": [
    "# By the end of this video  \n",
    "1. We will be able to use various types of locks for threading in Python.\n",
    "2. We will understand how the different locks work.\n",
    "3. We will be able to implement Re-entrant locks in Python."
   ]
  },
  {
   "cell_type": "code",
   "execution_count": null,
   "metadata": {},
   "outputs": [],
   "source": []
  }
 ],
 "metadata": {
  "kernelspec": {
   "display_name": "Python 3",
   "language": "python",
   "name": "python3"
  },
  "language_info": {
   "codemirror_mode": {
    "name": "ipython",
    "version": 3
   },
   "file_extension": ".py",
   "mimetype": "text/x-python",
   "name": "python",
   "nbconvert_exporter": "python",
   "pygments_lexer": "ipython3",
   "version": "3.5.2"
  }
 },
 "nbformat": 4,
 "nbformat_minor": 2
}
