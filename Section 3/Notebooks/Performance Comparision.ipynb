{
 "cells": [
  {
   "cell_type": "markdown",
   "metadata": {},
   "source": [
    "# At the start of this video  \n",
    "1. We were able to create and use numpy arrays.\n",
    "2. We were able to do slicing and masking on numpy arrays.\n",
    "3. We were able to do broadcasting on numpy arrays."
   ]
  },
  {
   "cell_type": "code",
   "execution_count": 1,
   "metadata": {},
   "outputs": [],
   "source": [
    "import numpy as np"
   ]
  },
  {
   "cell_type": "code",
   "execution_count": 14,
   "metadata": {},
   "outputs": [],
   "source": [
    "# This function takes two arrays X, Y as input, and returns a new array Z where \n",
    "# Z[i] = X[i] + Y[i] + i\n",
    "\n",
    "# Sample Input: X = [1, 2, 3],  Y = [4, 5, 6]\n",
    "# Sample Output: Z = [1+4+0, 2+5+1, 3+6+2] = [5, 8, 11]\n",
    "\n",
    "def do_some_op(arr1, arr2):\n",
    "    arr3 = []\n",
    "    for idx in range(0, len(arr1)):\n",
    "        arr3.append(arr1[idx] + arr2[idx] + idx)\n",
    "    return arr3"
   ]
  },
  {
   "cell_type": "code",
   "execution_count": 17,
   "metadata": {},
   "outputs": [],
   "source": [
    "arr1 = list(range(0, 5000000))\n",
    "arr2 = list(range(0, 5000000))"
   ]
  },
  {
   "cell_type": "code",
   "execution_count": 18,
   "metadata": {},
   "outputs": [
    {
     "name": "stdout",
     "output_type": "stream",
     "text": [
      "796 ms ± 20.1 ms per loop (mean ± std. dev. of 7 runs, 1 loop each)\n"
     ]
    }
   ],
   "source": [
    "%timeit do_some_op(arr1, arr2)"
   ]
  },
  {
   "cell_type": "markdown",
   "metadata": {},
   "source": [
    "# Using numpy"
   ]
  },
  {
   "cell_type": "code",
   "execution_count": 26,
   "metadata": {},
   "outputs": [],
   "source": [
    "def do_some_op_np(arr1, arr2):\n",
    "    idx_array = np.arange(arr1.size)\n",
    "    arr3 = arr1 + arr2 + idx_array\n",
    "    return arr3"
   ]
  },
  {
   "cell_type": "code",
   "execution_count": 27,
   "metadata": {},
   "outputs": [],
   "source": [
    "arr1_np = np.random.random(5000000)\n",
    "arr2_np = np.random.random(5000000)"
   ]
  },
  {
   "cell_type": "code",
   "execution_count": 28,
   "metadata": {},
   "outputs": [
    {
     "name": "stdout",
     "output_type": "stream",
     "text": [
      "52.1 ms ± 339 µs per loop (mean ± std. dev. of 7 runs, 10 loops each)\n"
     ]
    }
   ],
   "source": [
    "%timeit do_some_op_np(arr1_np, arr2_np)"
   ]
  },
  {
   "cell_type": "markdown",
   "metadata": {},
   "source": [
    "# By the end of this video  \n",
    "1. We will apply all the concepts we have learned till now.\n",
    "2. We will also do performance analysis of our code to understand the speedup we have gained."
   ]
  },
  {
   "cell_type": "code",
   "execution_count": null,
   "metadata": {},
   "outputs": [],
   "source": []
  }
 ],
 "metadata": {
  "kernelspec": {
   "display_name": "Python 3",
   "language": "python",
   "name": "python3"
  },
  "language_info": {
   "codemirror_mode": {
    "name": "ipython",
    "version": 3
   },
   "file_extension": ".py",
   "mimetype": "text/x-python",
   "name": "python",
   "nbconvert_exporter": "python",
   "pygments_lexer": "ipython3",
   "version": "3.5.2"
  }
 },
 "nbformat": 4,
 "nbformat_minor": 2
}
