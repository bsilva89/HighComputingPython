{
 "cells": [
  {
   "cell_type": "markdown",
   "metadata": {},
   "source": [
    "# At the beginning of this Video  \n",
    "1. We were able to create simple Cython programs\n",
    "2. We were able to use Cython Data types "
   ]
  },
  {
   "cell_type": "code",
   "execution_count": 1,
   "metadata": {},
   "outputs": [],
   "source": [
    "%load_ext cython\n",
    "import numpy as np\n"
   ]
  },
  {
   "cell_type": "markdown",
   "metadata": {},
   "source": [
    "### Initialize Input variables"
   ]
  },
  {
   "cell_type": "code",
   "execution_count": 2,
   "metadata": {},
   "outputs": [],
   "source": [
    "x = np.random.randn(50000)\n",
    "y = np.random.randn(50000)"
   ]
  },
  {
   "cell_type": "code",
   "execution_count": 3,
   "metadata": {},
   "outputs": [],
   "source": [
    "# This function takes two arrays X, Y as input, and returns a new array Z where \n",
    "# Z[i] = X[i] + Y[i] + i\n",
    "\n",
    "# Sample Input: X = [1, 2, 3],  Y = [4, 5, 6]\n",
    "# Sample Output: Z = [1+4+0, 2+5+1, 3+6+2] = [5, 8, 11]\n",
    "\n",
    "def do_some_op(x, y):\n",
    "    n_x = x.size\n",
    "    n_y = y.size\n",
    "    if n_x!=n_y:\n",
    "        return \"Invalid Array input! Both array should be of same size\"\n",
    "    \n",
    "    z = np.zeros(n_x)\n",
    "    \n",
    "    for i in range(0, n_x):\n",
    "        z[i] = x[i] + y[i] + i\n",
    "    \n",
    "    return z"
   ]
  },
  {
   "cell_type": "code",
   "execution_count": 4,
   "metadata": {},
   "outputs": [
    {
     "name": "stdout",
     "output_type": "stream",
     "text": [
      "22.6 ms ± 251 µs per loop (mean ± std. dev. of 7 runs, 10 loops each)\n"
     ]
    }
   ],
   "source": [
    "%timeit do_some_op(x, y)"
   ]
  },
  {
   "cell_type": "markdown",
   "metadata": {},
   "source": [
    "# Using the code as it is in Cython"
   ]
  },
  {
   "cell_type": "code",
   "execution_count": 5,
   "metadata": {},
   "outputs": [],
   "source": [
    "%%cython\n",
    "import numpy as np\n",
    "def do_some_op_cython(x, y):\n",
    "    n_x = x.size\n",
    "    n_y = y.size\n",
    "    if n_x!=n_y:\n",
    "        return \"Invalid Array input! Both array should be of same size\"\n",
    "    \n",
    "    z = np.zeros(n_x)\n",
    "    \n",
    "    for i in range(0, n_x):\n",
    "        z[i] = x[i] + y[i] + i\n",
    "    \n",
    "    return z"
   ]
  },
  {
   "cell_type": "code",
   "execution_count": 6,
   "metadata": {},
   "outputs": [
    {
     "name": "stdout",
     "output_type": "stream",
     "text": [
      "19.8 ms ± 279 µs per loop (mean ± std. dev. of 7 runs, 10 loops each)\n"
     ]
    }
   ],
   "source": [
    "%timeit do_some_op_cython(x, y)"
   ]
  },
  {
   "cell_type": "markdown",
   "metadata": {},
   "source": [
    "## Using Memory Views"
   ]
  },
  {
   "cell_type": "code",
   "execution_count": 7,
   "metadata": {},
   "outputs": [],
   "source": [
    "%%cython\n",
    "import numpy as np\n",
    "def do_some_op_static(double[::1] x, double[::1] y):\n",
    "    cdef int n_x = x.size\n",
    "    cdef int n_y = y.size\n",
    "    if n_x!=n_y:\n",
    "        return \"Invalid Array input! Both array should be of same size\"\n",
    "    \n",
    "    cdef double[::1] z = np.zeros(n_x)\n",
    "    cdef int i\n",
    "    for i in range(0, n_x):\n",
    "        z[i] = x[i] + y[i] + i\n",
    "    return z"
   ]
  },
  {
   "cell_type": "code",
   "execution_count": 8,
   "metadata": {},
   "outputs": [
    {
     "name": "stdout",
     "output_type": "stream",
     "text": [
      "78.8 µs ± 827 ns per loop (mean ± std. dev. of 7 runs, 10000 loops each)\n"
     ]
    }
   ],
   "source": [
    "%timeit do_some_op_static(x, y)"
   ]
  },
  {
   "cell_type": "markdown",
   "metadata": {},
   "source": [
    "# Turning off the check for negative indexing and out of bounds indices"
   ]
  },
  {
   "cell_type": "code",
   "execution_count": 9,
   "metadata": {},
   "outputs": [],
   "source": [
    "%%cython\n",
    "import numpy as np\n",
    "from cython import boundscheck, wraparound\n",
    "\n",
    "@boundscheck(False)\n",
    "@wraparound(False)\n",
    "def do_some_op_no_bounds(double[::1] x, double[::1] y):\n",
    "    cdef int n_x = x.size\n",
    "    cdef int n_y = y.size\n",
    "    if n_x!=n_y:\n",
    "        return \"Invalid Array input! Both array should be of same size\"\n",
    "    \n",
    "    cdef double[::1] z = np.zeros(n_x)\n",
    "    cdef int i\n",
    "    for i in range(0, n_x):\n",
    "        z[i] = x[i] + y[i] + i\n",
    "    return z"
   ]
  },
  {
   "cell_type": "code",
   "execution_count": 10,
   "metadata": {},
   "outputs": [
    {
     "name": "stdout",
     "output_type": "stream",
     "text": [
      "56.2 µs ± 766 ns per loop (mean ± std. dev. of 7 runs, 10000 loops each)\n"
     ]
    }
   ],
   "source": [
    "%timeit do_some_op_no_bounds(x, y)"
   ]
  },
  {
   "cell_type": "markdown",
   "metadata": {},
   "source": [
    "# At the end of this video  \n",
    "1. We will be able to combine Numpy and Cython to gain additional speedups.  \n",
    "2. We will also be able to memory views for Numpy arrays in Cython.  \n",
    "3. We will understand the @boundscheck and @wraparound check in Cython for arrays.  "
   ]
  },
  {
   "cell_type": "code",
   "execution_count": null,
   "metadata": {},
   "outputs": [],
   "source": []
  }
 ],
 "metadata": {
  "kernelspec": {
   "display_name": "Python 3",
   "language": "python",
   "name": "python3"
  },
  "language_info": {
   "codemirror_mode": {
    "name": "ipython",
    "version": 3
   },
   "file_extension": ".py",
   "mimetype": "text/x-python",
   "name": "python",
   "nbconvert_exporter": "python",
   "pygments_lexer": "ipython3",
   "version": "3.5.2"
  }
 },
 "nbformat": 4,
 "nbformat_minor": 2
}
