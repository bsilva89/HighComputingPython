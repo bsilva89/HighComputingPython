{
 "cells": [
  {
   "cell_type": "code",
   "execution_count": 1,
   "metadata": {
    "id": "zu18bmmjUieW",
    "colab_type": "code",
    "colab": {
     "base_uri": "https://localhost:8080/",
     "height": 34.0
    },
    "outputId": "0ec25c52-587a-403f-94af-483fd82ac929"
   },
   "outputs": [
    {
     "name": "stdout",
     "output_type": "stream",
     "text": [
      "Requirement already satisfied: asyncio in /usr/local/lib/python3.6/dist-packages (3.4.3)\n"
     ]
    }
   ],
   "source": [
    "!pip install asyncio"
   ]
  },
  {
   "cell_type": "code",
   "execution_count": 0,
   "metadata": {
    "id": "P7Zkhxg6WcMa",
    "colab_type": "code",
    "colab": {}
   },
   "outputs": [],
   "source": [
    "def f1(x):\n",
    "  print(\"Starting function f1\")\n",
    "  for i in range(0, x):\n",
    "    print(\"X right now is {}\".format(i))\n",
    "  print(\"Function f1 ended\")\n",
    "\n",
    "def f2(my_str, times):\n",
    "  print(\"Starting function f2\")\n",
    "  for i in range(0, times):\n",
    "    print(my_str)\n",
    "  print(\"Function f2 ended\")\n",
    "\n",
    "\n",
    "def f3(my_str1, my_str2):\n",
    "  print(\"Starting function f3\")\n",
    "  print(my_str1 + my_str2)\n",
    "  print(\"Function f3 ended\")"
   ]
  },
  {
   "cell_type": "code",
   "execution_count": 0,
   "metadata": {
    "id": "ayGbPGcDXJCY",
    "colab_type": "code",
    "colab": {}
   },
   "outputs": [],
   "source": [
    "def synchronous_calls():\n",
    "  f1(3)\n",
    "  f2(\"Hello YOLO!\", 3)\n",
    "  f3(\"Hello World !\", \" Goodbye World!\")"
   ]
  },
  {
   "cell_type": "code",
   "execution_count": 4,
   "metadata": {
    "id": "8d3U_tq9XT9A",
    "colab_type": "code",
    "colab": {
     "base_uri": "https://localhost:8080/",
     "height": 243.0
    },
    "outputId": "ee1b8a67-c88e-47fd-c001-2df3bb581bce"
   },
   "outputs": [
    {
     "name": "stdout",
     "output_type": "stream",
     "text": [
      "Starting function f1\n",
      "X right now is 0\n",
      "X right now is 1\n",
      "X right now is 2\n",
      "Function f1 ended\n",
      "Starting function f2\n",
      "Hello YOLO!\n",
      "Hello YOLO!\n",
      "Hello YOLO!\n",
      "Function f2 ended\n",
      "Starting function f3\n",
      "Hello World ! Goodbye World!\n",
      "Function f3 ended\n"
     ]
    }
   ],
   "source": [
    "synchronous_calls()"
   ]
  },
  {
   "cell_type": "code",
   "execution_count": 0,
   "metadata": {
    "id": "J_QAgV1OXWp_",
    "colab_type": "code",
    "colab": {}
   },
   "outputs": [],
   "source": [
    ""
   ]
  },
  {
   "cell_type": "markdown",
   "metadata": {
    "id": "9QCDGG0WYAZ8",
    "colab_type": "text"
   },
   "source": [
    "# Asynchronous Calls"
   ]
  },
  {
   "cell_type": "code",
   "execution_count": 0,
   "metadata": {
    "id": "9Rgtq_59YDDZ",
    "colab_type": "code",
    "colab": {}
   },
   "outputs": [],
   "source": [
    "import asyncio"
   ]
  },
  {
   "cell_type": "code",
   "execution_count": 0,
   "metadata": {
    "id": "B21HIF_BYQhW",
    "colab_type": "code",
    "colab": {}
   },
   "outputs": [],
   "source": [
    "# Instead of def, we use async def\n",
    "async def f1(x):\n",
    "  print(\"Starting function f1\")\n",
    "  for i in range(0, x):\n",
    "    print(\"X right now is {}\".format(i))\n",
    "    await asyncio.sleep(0.01)\n",
    "  print(\"Function f1 ended\")\n",
    "\n",
    "async def f2(my_str, times):\n",
    "  print(\"Starting function f2\")\n",
    "  for i in range(0, times):\n",
    "    print(my_str)\n",
    "    await asyncio.sleep(0.01)\n",
    "  print(\"Function f2 ended\")\n",
    "\n",
    "  \n",
    "async def f3(my_str1, my_str2):\n",
    "  print(\"Starting function f3\")\n",
    "  print(my_str1 + my_str2)\n",
    "  print(\"Function f3 ended\")"
   ]
  },
  {
   "cell_type": "code",
   "execution_count": 0,
   "metadata": {
    "id": "wSqtKRWUZJkF",
    "colab_type": "code",
    "colab": {}
   },
   "outputs": [],
   "source": [
    ""
   ]
  },
  {
   "cell_type": "code",
   "execution_count": 0,
   "metadata": {
    "id": "7ZnCqULvY1jJ",
    "colab_type": "code",
    "colab": {}
   },
   "outputs": [],
   "source": [
    "async def async_call_new():\n",
    "  f1_obj = event_loop.create_task(f1(10))\n",
    "  f2_obj =event_loop.create_task(f2(\"Hello Yolo\", 10))\n",
    "  f3_obj =event_loop.create_task(f3(\"Hello World\", \"Goodbye!\"))\n",
    "  await asyncio.wait([f1_obj, f2_obj, f3_obj])"
   ]
  },
  {
   "cell_type": "code",
   "execution_count": 8,
   "metadata": {
    "id": "b1uikp_WZxSc",
    "colab_type": "code",
    "colab": {
     "base_uri": "https://localhost:8080/",
     "height": 486.0
    },
    "outputId": "6d3d6ad6-04fa-4ba1-b846-f6999ac911c8"
   },
   "outputs": [
    {
     "name": "stdout",
     "output_type": "stream",
     "text": [
      "Starting function f1\n",
      "X right now is 0\n",
      "Starting function f2\n",
      "Hello Yolo\n",
      "Starting function f3\n",
      "Hello WorldGoodbye!\n",
      "Function f3 ended\n",
      "X right now is 1\n",
      "Hello Yolo\n",
      "X right now is 2\n",
      "Hello Yolo\n",
      "X right now is 3\n",
      "Hello Yolo\n",
      "X right now is 4\n",
      "Hello Yolo\n",
      "X right now is 5\n",
      "Hello Yolo\n",
      "X right now is 6\n",
      "Hello Yolo\n",
      "X right now is 7\n",
      "Hello Yolo\n",
      "X right now is 8\n",
      "Hello Yolo\n",
      "X right now is 9\n",
      "Hello Yolo\n",
      "Function f1 ended\n",
      "Function f2 ended\n"
     ]
    }
   ],
   "source": [
    "event_loop = asyncio.get_event_loop()\n",
    "event_loop.run_until_complete(async_call_new())\n",
    "event_loop.close()"
   ]
  },
  {
   "cell_type": "code",
   "execution_count": 0,
   "metadata": {
    "id": "eJpKj2a3a8F_",
    "colab_type": "code",
    "colab": {}
   },
   "outputs": [],
   "source": [
    ""
   ]
  }
 ],
 "metadata": {
  "colab": {
   "name": "AsyncIO.ipynb",
   "version": "0.3.2",
   "provenance": [],
   "collapsed_sections": []
  },
  "kernelspec": {
   "name": "python3",
   "display_name": "Python 3"
  }
 },
 "nbformat": 4,
 "nbformat_minor": 0
}
