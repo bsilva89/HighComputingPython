{
 "cells": [
  {
   "cell_type": "code",
   "execution_count": 0,
   "metadata": {
    "id": "eehS-iuEqZx4",
    "colab_type": "code",
    "colab": {}
   },
   "outputs": [],
   "source": [
    "from rx import Observer, Observable"
   ]
  },
  {
   "cell_type": "code",
   "execution_count": 0,
   "metadata": {
    "id": "oAeikIQ6qjiu",
    "colab_type": "code",
    "colab": {}
   },
   "outputs": [],
   "source": [
    "class my_observer(Observer):\n",
    "  def on_next(self, input_data):\n",
    "    print(\"I have recieved {}\".format(input_data))\n",
    "   \n",
    "  def on_completed(self):\n",
    "    print(\"I have finished recieving data !\")\n",
    "  \n",
    "  def on_error(self):\n",
    "    # Define error according to your use case\n",
    "    pass"
   ]
  },
  {
   "cell_type": "markdown",
   "metadata": {
    "id": "qkvwXaYnrke5",
    "colab_type": "text"
   },
   "source": [
    "# Operators"
   ]
  },
  {
   "cell_type": "code",
   "execution_count": 5,
   "metadata": {
    "id": "9hHvyQXVsF8m",
    "colab_type": "code",
    "colab": {
     "base_uri": "https://localhost:8080/",
     "height": 208.0
    },
    "outputId": "d1897c04-90ba-4296-83a8-b985bbda965e"
   },
   "outputs": [
    {
     "name": "stdout",
     "output_type": "stream",
     "text": [
      "I have recieved 0\n",
      "I have recieved 2\n",
      "I have recieved 4\n",
      "I have recieved 6\n",
      "I have recieved 8\n",
      "I have recieved 10\n",
      "I have recieved 12\n",
      "I have recieved 14\n",
      "I have recieved 16\n",
      "I have recieved 18\n",
      "I have finished recieving data !\n"
     ]
    }
   ],
   "source": [
    "my_observable = Observable.from_(range(0, 20, 2))\n",
    "my_var = my_observable.subscribe(my_observer())"
   ]
  },
  {
   "cell_type": "markdown",
   "metadata": {
    "id": "8pl8MnskrrqM",
    "colab_type": "text"
   },
   "source": [
    "### Filter Operator"
   ]
  },
  {
   "cell_type": "code",
   "execution_count": 4,
   "metadata": {
    "id": "uXsWie1XrvI2",
    "colab_type": "code",
    "colab": {
     "base_uri": "https://localhost:8080/",
     "height": 121.0
    },
    "outputId": "49dbe4f0-6ccc-4fc8-dcae-761671a70fdc"
   },
   "outputs": [
    {
     "name": "stdout",
     "output_type": "stream",
     "text": [
      "I have recieved 0\n",
      "I have recieved 4\n",
      "I have recieved 8\n",
      "I have recieved 12\n",
      "I have recieved 16\n",
      "I have finished recieving data !\n"
     ]
    }
   ],
   "source": [
    "my_observable = Observable.from_(range(0, 20, 2))\n",
    "my_var = my_observable.filter(lambda x: x%4==0).subscribe(my_observer())"
   ]
  },
  {
   "cell_type": "code",
   "execution_count": 6,
   "metadata": {
    "id": "-5pfOo5hsQlO",
    "colab_type": "code",
    "colab": {
     "base_uri": "https://localhost:8080/",
     "height": 52.0
    },
    "outputId": "0a79fc98-cec2-4530-d788-b7127dcebeae"
   },
   "outputs": [
    {
     "name": "stdout",
     "output_type": "stream",
     "text": [
      "I have recieved yolo\n",
      "I have finished recieving data !\n"
     ]
    }
   ],
   "source": [
    "my_observable = Observable.from_([\"hello\", \"world\", \"yolo\"])\n",
    "my_var = my_observable.filter(lambda x: len(x)%2==0).subscribe(my_observer())"
   ]
  },
  {
   "cell_type": "markdown",
   "metadata": {
    "id": "WYdn95Vbshvq",
    "colab_type": "text"
   },
   "source": [
    "### Distinct"
   ]
  },
  {
   "cell_type": "code",
   "execution_count": 7,
   "metadata": {
    "id": "IkZPVFdpsjuQ",
    "colab_type": "code",
    "colab": {
     "base_uri": "https://localhost:8080/",
     "height": 121.0
    },
    "outputId": "b9b40393-01fa-4172-f40c-aa4e2780db24"
   },
   "outputs": [
    {
     "name": "stdout",
     "output_type": "stream",
     "text": [
      "I have recieved 1\n",
      "I have recieved 2\n",
      "I have recieved 3\n",
      "I have recieved 4\n",
      "I have recieved 6\n",
      "I have finished recieving data !\n"
     ]
    }
   ],
   "source": [
    "my_observable = Observable.from_([1, 2, 1, 3, 4, 2, 1, 4, 6])\n",
    "my_var = my_observable.distinct().subscribe(my_observer())"
   ]
  },
  {
   "cell_type": "markdown",
   "metadata": {
    "id": "FdAcGA0Eszo5",
    "colab_type": "text"
   },
   "source": [
    "### Map"
   ]
  },
  {
   "cell_type": "code",
   "execution_count": 9,
   "metadata": {
    "id": "7gHpF1Z-s1qu",
    "colab_type": "code",
    "colab": {
     "base_uri": "https://localhost:8080/",
     "height": 208.0
    },
    "outputId": "ac9f9b21-25cf-48fa-e08d-119524f83ab7"
   },
   "outputs": [
    {
     "name": "stdout",
     "output_type": "stream",
     "text": [
      "I have recieved 0\n",
      "I have recieved 1\n",
      "I have recieved 4\n",
      "I have recieved 9\n",
      "I have recieved 16\n",
      "I have recieved 25\n",
      "I have recieved 36\n",
      "I have recieved 49\n",
      "I have recieved 64\n",
      "I have recieved 81\n",
      "I have finished recieving data !\n"
     ]
    }
   ],
   "source": [
    "my_observable = Observable.from_(range(0, 10))\n",
    "my_var = my_observable.map(lambda x: x**2).subscribe(my_observer())"
   ]
  },
  {
   "cell_type": "code",
   "execution_count": 10,
   "metadata": {
    "id": "rQanZ0cAtFhj",
    "colab_type": "code",
    "colab": {
     "base_uri": "https://localhost:8080/",
     "height": 86.0
    },
    "outputId": "4f979d3a-5400-410c-941b-c839d3dfcd3c"
   },
   "outputs": [
    {
     "name": "stdout",
     "output_type": "stream",
     "text": [
      "I have recieved hello!!!!\n",
      "I have recieved world!!!!\n",
      "I have recieved yolo!!!!\n",
      "I have finished recieving data !\n"
     ]
    }
   ],
   "source": [
    "my_observable = Observable.from_([\"hello\", \"world\", \"yolo\"])\n",
    "my_var = my_observable.map(lambda x: x + \"!!!!\").subscribe(my_observer())"
   ]
  },
  {
   "cell_type": "markdown",
   "metadata": {
    "id": "SX10XqFYtYHG",
    "colab_type": "text"
   },
   "source": [
    "# Chaining Data Operators"
   ]
  },
  {
   "cell_type": "code",
   "execution_count": 11,
   "metadata": {
    "id": "XrSO4VpRtaRh",
    "colab_type": "code",
    "colab": {
     "base_uri": "https://localhost:8080/",
     "height": 104.0
    },
    "outputId": "a7594afa-03cc-4240-b862-44e756059bf9"
   },
   "outputs": [
    {
     "name": "stdout",
     "output_type": "stream",
     "text": [
      "I have recieved 0\n",
      "I have recieved 9\n",
      "I have recieved 36\n",
      "I have recieved 81\n",
      "I have finished recieving data !\n"
     ]
    }
   ],
   "source": [
    "my_observable = Observable.from_(range(0, 10))\n",
    "my_var = my_observable.map(lambda x: x**2).filter(lambda x: x%3==0).subscribe(my_observer())"
   ]
  },
  {
   "cell_type": "code",
   "execution_count": 12,
   "metadata": {
    "id": "jQWLr_Gctr25",
    "colab_type": "code",
    "colab": {
     "base_uri": "https://localhost:8080/",
     "height": 121.0
    },
    "outputId": "484d7127-145d-4f38-9371-3b7ed76c69a0"
   },
   "outputs": [
    {
     "name": "stdout",
     "output_type": "stream",
     "text": [
      "I have recieved 1\n",
      "I have recieved 4\n",
      "I have recieved 9\n",
      "I have recieved 16\n",
      "I have recieved 36\n",
      "I have finished recieving data !\n"
     ]
    }
   ],
   "source": [
    "my_observable = Observable.from_([1, 2, 1, 3, 4, 2, 1, 4, 6])\n",
    "my_var = my_observable.distinct().map(lambda x: x**2).subscribe(my_observer())"
   ]
  }
 ],
 "metadata": {
  "colab": {
   "name": "Data Operators with RxPy.ipynb",
   "version": "0.3.2",
   "provenance": []
  },
  "kernelspec": {
   "name": "python3",
   "display_name": "Python 3"
  }
 },
 "nbformat": 4,
 "nbformat_minor": 0
}
