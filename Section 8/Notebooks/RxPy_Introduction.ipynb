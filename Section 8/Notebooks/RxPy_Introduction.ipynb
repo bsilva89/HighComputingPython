{
 "cells": [
  {
   "cell_type": "code",
   "execution_count": 1,
   "metadata": {
    "id": "rmNcYzHdh3BW",
    "colab_type": "code",
    "colab": {
     "base_uri": "https://localhost:8080/",
     "height": 34.0
    },
    "outputId": "c785978c-e6b5-40b2-d0de-f918eec40bf9"
   },
   "outputs": [
    {
     "name": "stdout",
     "output_type": "stream",
     "text": [
      "Requirement already satisfied: rx in /usr/local/lib/python3.6/dist-packages (1.6.1)\n"
     ]
    }
   ],
   "source": [
    "!pip install rx"
   ]
  },
  {
   "cell_type": "code",
   "execution_count": 0,
   "metadata": {
    "id": "BkvYUx0iiFcw",
    "colab_type": "code",
    "colab": {}
   },
   "outputs": [],
   "source": [
    "import rx"
   ]
  },
  {
   "cell_type": "markdown",
   "metadata": {
    "id": "d1_kUGgoiqm_",
    "colab_type": "text"
   },
   "source": [
    "# Observer\n",
    "There are the three events for observers  \n",
    "1. on_next() - the next element in stream is recieved (if it exists)  \n",
    "2. on_completed()- the subscribed stream has finished transmitting  \n",
    "3. on_error() - for dealing with errors while transmitting"
   ]
  },
  {
   "cell_type": "code",
   "execution_count": 0,
   "metadata": {
    "id": "KFZ0yB6-k_24",
    "colab_type": "code",
    "colab": {}
   },
   "outputs": [],
   "source": [
    "from rx import Observer, Observable\n",
    "\n",
    "class my_observer(Observer):\n",
    "  def on_next(self, input_data):\n",
    "    print(\"I have recieved {}\".format(input_data))\n",
    "   \n",
    "  def on_completed(self):\n",
    "    print(\"I have finished recieving data !\")\n",
    "  \n",
    "  def on_error(self):\n",
    "    # Define error according to your use case\n",
    "    pass"
   ]
  },
  {
   "cell_type": "markdown",
   "metadata": {
    "id": "uv73eJD5mpPW",
    "colab_type": "text"
   },
   "source": [
    "# Observable"
   ]
  },
  {
   "cell_type": "code",
   "execution_count": 0,
   "metadata": {
    "id": "ampm0olmlj0r",
    "colab_type": "code",
    "colab": {}
   },
   "outputs": [],
   "source": [
    "my_subscriber = Observable.from_(range(0, 20, 2))\n"
   ]
  },
  {
   "cell_type": "code",
   "execution_count": 12,
   "metadata": {
    "id": "XaeXoNPKmvMI",
    "colab_type": "code",
    "colab": {
     "base_uri": "https://localhost:8080/",
     "height": 208.0
    },
    "outputId": "3d17c51d-fbe0-436f-a605-c9cc14f63180"
   },
   "outputs": [
    {
     "name": "stdout",
     "output_type": "stream",
     "text": [
      "I have recieved 0\n",
      "I have recieved 2\n",
      "I have recieved 4\n",
      "I have recieved 6\n",
      "I have recieved 8\n",
      "I have recieved 10\n",
      "I have recieved 12\n",
      "I have recieved 14\n",
      "I have recieved 16\n",
      "I have recieved 18\n",
      "I have finished recieving data !\n"
     ]
    }
   ],
   "source": [
    "# Now subscribe the Observer(subscriber) to the Observable\n",
    "my_var = my_subscriber.subscribe(my_observer())"
   ]
  },
  {
   "cell_type": "markdown",
   "metadata": {
    "id": "-edH2o44neqi",
    "colab_type": "text"
   },
   "source": [
    "You can also use lamda function instead of creating observer class and defining the functions"
   ]
  },
  {
   "cell_type": "code",
   "execution_count": 14,
   "metadata": {
    "id": "PJXo20HRnHR7",
    "colab_type": "code",
    "colab": {
     "base_uri": "https://localhost:8080/",
     "height": 225.0
    },
    "outputId": "87619e25-4e69-4391-aba3-3b50ec020c50"
   },
   "outputs": [
    {
     "name": "stdout",
     "output_type": "stream",
     "text": [
      "I have recieved 0\n",
      "I have recieved 2\n",
      "I have recieved 4\n",
      "I have recieved 6\n",
      "I have recieved 8\n",
      "I have recieved 10\n",
      "I have recieved 12\n",
      "I have recieved 14\n",
      "I have recieved 16\n",
      "I have recieved 18\n",
      "completed\n"
     ]
    },
    {
     "data": {
      "text/plain": [
       "<rx.disposables.anonymousdisposable.AnonymousDisposable at 0x7fd5906ba390>"
      ]
     },
     "execution_count": 14,
     "metadata": {
      "tags": []
     },
     "output_type": "execute_result"
    }
   ],
   "source": [
    "my_subscriber.subscribe(on_next = lambda x: print(\"I have recieved {}\".format(x)), on_completed = lambda: print(\"completed\"))"
   ]
  }
 ],
 "metadata": {
  "colab": {
   "name": "RxPy - Introduction.ipynb",
   "version": "0.3.2",
   "provenance": []
  },
  "kernelspec": {
   "name": "python3",
   "display_name": "Python 3"
  }
 },
 "nbformat": 4,
 "nbformat_minor": 0
}
